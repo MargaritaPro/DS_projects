{
 "cells": [
  {
   "cell_type": "markdown",
   "metadata": {},
   "source": [
    "# Рекомендация тарифов"
   ]
  },
  {
   "cell_type": "markdown",
   "metadata": {},
   "source": [
    "В вашем распоряжении данные о поведении клиентов, которые уже перешли на эти тарифы (из проекта курса «Статистический анализ данных»). Нужно построить модель для задачи классификации, которая выберет подходящий тариф. Предобработка данных не понадобится — вы её уже сделали.\n",
    "\n",
    "Постройте модель с максимально большим значением *accuracy*. Чтобы сдать проект успешно, нужно довести долю правильных ответов по крайней мере до 0.75. Проверьте *accuracy* на тестовой выборке самостоятельно."
   ]
  },
  {
   "cell_type": "markdown",
   "metadata": {},
   "source": [
    "# Оглавление: \n",
    "1. [1. Откройте и изучите файл](#step1)  \n",
    "2. [2. Разбейте данные на выборки](#step2)  \n",
    "3. [3. Исследуйте модели](#step3)\n",
    "4. [4. Проверьте модель на тестовой выборке](#step4)\n",
    "5. [5. (бонус) Проверьте модели на адекватность](#step5)\n",
    "6. [6. Итоговый вывод](#step6)"
   ]
  },
  {
   "cell_type": "markdown",
   "metadata": {},
   "source": [
    "## 1. Откройте и изучите файл <a id=\"step1\"></a> "
   ]
  },
  {
   "cell_type": "code",
   "execution_count": 13,
   "metadata": {},
   "outputs": [],
   "source": [
    "import pandas as pd\n",
    "from sklearn.model_selection import train_test_split\n",
    "from sklearn.tree import DecisionTreeClassifier\n",
    "from sklearn.metrics import accuracy_score\n",
    "from sklearn.ensemble import RandomForestClassifier\n",
    "from sklearn.linear_model import LogisticRegression \n",
    "from sklearn.dummy import DummyClassifier"
   ]
  },
  {
   "cell_type": "code",
   "execution_count": 2,
   "metadata": {},
   "outputs": [
    {
     "data": {
      "text/html": [
       "<div>\n",
       "<style scoped>\n",
       "    .dataframe tbody tr th:only-of-type {\n",
       "        vertical-align: middle;\n",
       "    }\n",
       "\n",
       "    .dataframe tbody tr th {\n",
       "        vertical-align: top;\n",
       "    }\n",
       "\n",
       "    .dataframe thead th {\n",
       "        text-align: right;\n",
       "    }\n",
       "</style>\n",
       "<table border=\"1\" class=\"dataframe\">\n",
       "  <thead>\n",
       "    <tr style=\"text-align: right;\">\n",
       "      <th></th>\n",
       "      <th>calls</th>\n",
       "      <th>minutes</th>\n",
       "      <th>messages</th>\n",
       "      <th>mb_used</th>\n",
       "      <th>is_ultra</th>\n",
       "    </tr>\n",
       "  </thead>\n",
       "  <tbody>\n",
       "    <tr>\n",
       "      <td>0</td>\n",
       "      <td>40.0</td>\n",
       "      <td>311.90</td>\n",
       "      <td>83.0</td>\n",
       "      <td>19915.42</td>\n",
       "      <td>0</td>\n",
       "    </tr>\n",
       "    <tr>\n",
       "      <td>1</td>\n",
       "      <td>85.0</td>\n",
       "      <td>516.75</td>\n",
       "      <td>56.0</td>\n",
       "      <td>22696.96</td>\n",
       "      <td>0</td>\n",
       "    </tr>\n",
       "    <tr>\n",
       "      <td>2</td>\n",
       "      <td>77.0</td>\n",
       "      <td>467.66</td>\n",
       "      <td>86.0</td>\n",
       "      <td>21060.45</td>\n",
       "      <td>0</td>\n",
       "    </tr>\n",
       "    <tr>\n",
       "      <td>3</td>\n",
       "      <td>106.0</td>\n",
       "      <td>745.53</td>\n",
       "      <td>81.0</td>\n",
       "      <td>8437.39</td>\n",
       "      <td>1</td>\n",
       "    </tr>\n",
       "    <tr>\n",
       "      <td>4</td>\n",
       "      <td>66.0</td>\n",
       "      <td>418.74</td>\n",
       "      <td>1.0</td>\n",
       "      <td>14502.75</td>\n",
       "      <td>0</td>\n",
       "    </tr>\n",
       "  </tbody>\n",
       "</table>\n",
       "</div>"
      ],
      "text/plain": [
       "   calls  minutes  messages   mb_used  is_ultra\n",
       "0   40.0   311.90      83.0  19915.42         0\n",
       "1   85.0   516.75      56.0  22696.96         0\n",
       "2   77.0   467.66      86.0  21060.45         0\n",
       "3  106.0   745.53      81.0   8437.39         1\n",
       "4   66.0   418.74       1.0  14502.75         0"
      ]
     },
     "metadata": {},
     "output_type": "display_data"
    },
    {
     "name": "stdout",
     "output_type": "stream",
     "text": [
      "<class 'pandas.core.frame.DataFrame'>\n",
      "RangeIndex: 3214 entries, 0 to 3213\n",
      "Data columns (total 5 columns):\n",
      "calls       3214 non-null float64\n",
      "minutes     3214 non-null float64\n",
      "messages    3214 non-null float64\n",
      "mb_used     3214 non-null float64\n",
      "is_ultra    3214 non-null int64\n",
      "dtypes: float64(4), int64(1)\n",
      "memory usage: 125.7 KB\n",
      "None\n",
      "             calls      minutes     messages       mb_used     is_ultra\n",
      "count  3214.000000  3214.000000  3214.000000   3214.000000  3214.000000\n",
      "mean     63.038892   438.208787    38.281269  17207.673836     0.306472\n",
      "std      33.236368   234.569872    36.148326   7570.968246     0.461100\n",
      "min       0.000000     0.000000     0.000000      0.000000     0.000000\n",
      "25%      40.000000   274.575000     9.000000  12491.902500     0.000000\n",
      "50%      62.000000   430.600000    30.000000  16943.235000     0.000000\n",
      "75%      82.000000   571.927500    57.000000  21424.700000     1.000000\n",
      "max     244.000000  1632.060000   224.000000  49745.730000     1.000000\n",
      "calls       0\n",
      "minutes     0\n",
      "messages    0\n",
      "mb_used     0\n",
      "is_ultra    0\n",
      "dtype: int64\n",
      "Дубликатов 0\n"
     ]
    }
   ],
   "source": [
    "df = pd.read_csv('https://code.s3.yandex.net/datasets/users_behavior.csv')\n",
    "display(df.head())\n",
    "print(df.info())\n",
    "print(df.describe())\n",
    "print(df.isna().sum())\n",
    "print(\"Дубликатов\", df.duplicated().sum())"
   ]
  },
  {
   "cell_type": "markdown",
   "metadata": {},
   "source": [
    "### Вывод:\n",
    "Я загрузила таблицу с данными о поведении клиентов тарифов Smart и Ultra. Датасет состоит из 16715 строк и 11 колонок. Пропущенных данных и дублей нет. Типы колонок корректны, можно приступать к дальнейшему анализу. "
   ]
  },
  {
   "cell_type": "markdown",
   "metadata": {},
   "source": [
    "## 2. Разбейте данные на выборки <a id=\"step2\"></a> "
   ]
  },
  {
   "cell_type": "code",
   "execution_count": 3,
   "metadata": {},
   "outputs": [
    {
     "name": "stdout",
     "output_type": "stream",
     "text": [
      "Расмер обучающей выборки: (1928, 5)\n",
      "Размер валидационной выборки: (643, 5)\n",
      "Размер тестовой выботки: (643, 5)\n"
     ]
    }
   ],
   "source": [
    "#разделяем по правилу: 60-20-20\n",
    "df_train, df_test = train_test_split(df, test_size=0.4, random_state=123)\n",
    "df_test, df_valid = train_test_split(df_test, test_size = 0.5, random_state=123)\n",
    "print(\"Расмер обучающей выборки:\", df_train.shape)\n",
    "print(\"Размер валидационной выборки:\", df_valid.shape)\n",
    "print(\"Размер тестовой выботки:\", df_test.shape)"
   ]
  },
  {
   "cell_type": "code",
   "execution_count": 4,
   "metadata": {},
   "outputs": [],
   "source": [
    "def features_target(data, param):\n",
    "    features = data.drop([param], axis = 1)\n",
    "    target = data[param]\n",
    "    return features, target\n",
    "\n"
   ]
  },
  {
   "cell_type": "code",
   "execution_count": 5,
   "metadata": {},
   "outputs": [],
   "source": [
    "features_train, target_train = features_target(df_train, 'is_ultra')\n",
    "features_valid, target_valid = features_target(df_valid, 'is_ultra')\n",
    "features_test, target_test = features_target(df_test, 'is_ultra')"
   ]
  },
  {
   "cell_type": "markdown",
   "metadata": {},
   "source": [
    "### Вывод:\n",
    "Так как у нас нет отдельной тестовой выборки, разбиваем исходные данные на три группы по правилу 3:1:1. Обучающая выборка - 60%, валидационная выборка - 20%, тестовая выборка - 20%. Все данные в выборках я разделина на признаки (features) и целевой признак 'is_ultra' (target)."
   ]
  },
  {
   "cell_type": "markdown",
   "metadata": {},
   "source": [
    "## 3. Исследуйте модели <a id=\"step3\"></a> "
   ]
  },
  {
   "cell_type": "code",
   "execution_count": 6,
   "metadata": {},
   "outputs": [],
   "source": [
    "best_model = None\n",
    "n_estimatots = 0\n",
    "max_depth = 0\n",
    "best_accuracy = 0"
   ]
  },
  {
   "cell_type": "code",
   "execution_count": 7,
   "metadata": {},
   "outputs": [
    {
     "name": "stdout",
     "output_type": "stream",
     "text": [
      "0.7962674961119751\n",
      "3\n"
     ]
    }
   ],
   "source": [
    "# DecisionTreeClassifier\n",
    "best_model = None\n",
    "n_estimatots = 0\n",
    "max_depth = 0\n",
    "best_accuracy = 0\n",
    "for i in range(1,11):\n",
    "    model = DecisionTreeClassifier(random_state = 123, max_depth=i)\n",
    "    model.fit(features_train, target_train)\n",
    "    accuracy = model.score(features_valid, target_valid)\n",
    "    if best_accuracy<accuracy:\n",
    "        best_model = model\n",
    "        best_accuracy = accuracy\n",
    "        max_depth = i\n",
    "print(best_accuracy)\n",
    "print(max_depth)"
   ]
  },
  {
   "cell_type": "code",
   "execution_count": 8,
   "metadata": {},
   "outputs": [
    {
     "name": "stdout",
     "output_type": "stream",
     "text": [
      "0.8055987558320373\n",
      "6\n",
      "11\n"
     ]
    }
   ],
   "source": [
    "# RandomForestClassifier\n",
    "best_model = None\n",
    "n_estimatots = 0\n",
    "max_depth = 0\n",
    "best_accuracy = 0\n",
    "for i in range(1,11):\n",
    "    for j in range(1,51,10):\n",
    "        model = RandomForestClassifier(random_state = 123, max_depth=i, n_estimators = j)\n",
    "        model.fit(features_train, target_train)\n",
    "        accuracy = model.score(features_valid, target_valid)\n",
    "        if best_accuracy<accuracy:\n",
    "            best_model = model\n",
    "            best_accuracy = accuracy\n",
    "            max_depth = i\n",
    "            n_estimators = j\n",
    "print(best_accuracy)\n",
    "print(max_depth)\n",
    "print(n_estimators)"
   ]
  },
  {
   "cell_type": "code",
   "execution_count": 9,
   "metadata": {},
   "outputs": [
    {
     "name": "stdout",
     "output_type": "stream",
     "text": [
      "0.6967340590979783\n"
     ]
    },
    {
     "name": "stderr",
     "output_type": "stream",
     "text": [
      "/opt/conda/lib/python3.7/site-packages/sklearn/linear_model/logistic.py:432: FutureWarning: Default solver will be changed to 'lbfgs' in 0.22. Specify a solver to silence this warning.\n",
      "  FutureWarning)\n"
     ]
    }
   ],
   "source": [
    "# LogisticRegression \n",
    "model = LogisticRegression(random_state = 123)\n",
    "model.fit(features_train, target_train)\n",
    "accuracy = model.score(features_valid, target_valid)\n",
    "if best_accuracy<accuracy:\n",
    "    best_model = model\n",
    "    best_accuracy = accuracy\n",
    "print(accuracy)"
   ]
  },
  {
   "cell_type": "code",
   "execution_count": 10,
   "metadata": {},
   "outputs": [
    {
     "name": "stdout",
     "output_type": "stream",
     "text": [
      "Лучшая модель: RandomForestClassifier(bootstrap=True, class_weight=None, criterion='gini',\n",
      "                       max_depth=6, max_features='auto', max_leaf_nodes=None,\n",
      "                       min_impurity_decrease=0.0, min_impurity_split=None,\n",
      "                       min_samples_leaf=1, min_samples_split=2,\n",
      "                       min_weight_fraction_leaf=0.0, n_estimators=11,\n",
      "                       n_jobs=None, oob_score=False, random_state=123,\n",
      "                       verbose=0, warm_start=False)\n",
      "Точность на валидационной выборке: 0.8055987558320373\n"
     ]
    }
   ],
   "source": [
    "print(\"Лучшая модель:\", best_model)\n",
    "print(\"Точность на валидационной выборке:\", best_accuracy)"
   ]
  },
  {
   "cell_type": "markdown",
   "metadata": {},
   "source": [
    "### Вывод:\n",
    "Я исследовала качество разных моделей, меняя гиперпараметры. Модели обучались на обучающей выборке (features_train, target_train), а их точность проверялась на валидационной выборке (features_valid, target_valid).\n",
    "В модели решающее дерево (DecisionTreeClassifier) я изменяла гиперпарамерт \"глубина дерева\" (max_depth), и наилучший результат с точностью 0.796 показала модель с \"глубиной дерева\" 3.\n",
    "В модели случайные лес (RandomForestClassifier) я изменяла гиперпарамерт \"глубина дерева\" (max_depth) и \"количество деревьев\" (n_estimators). Наилучший результат с точностью 0.8 показала модель с \"глубиной дерева\" 6  и \"количество деревьев\" 11.\n",
    "Точность модели логистическая реграссия (LogisticRegression) равна 0.696.\n",
    "Самая низкая точность у модели логистической регрессии, а точность моделей решающее дерево и случайный леспрактически одинаковая. Лучше всего себя показала модель решающее дерево со следующими параметрами: RandomForestClassifier(bootstrap=True, class_weight=None, criterion='gini', max_depth=6, max_features='auto', max_leaf_nodes=None, min_impurity_decrease=0.0, min_impurity_split=None, min_samples_leaf=1, min_samples_split=2, min_weight_fraction_leaf=0.0, n_estimators=11, n_jobs=None, oob_score=False, random_state=123, verbose=0, warm_start=False)."
   ]
  },
  {
   "cell_type": "markdown",
   "metadata": {},
   "source": [
    "## 4. Проверьте модель на тестовой выборке <a id=\"step4\"></a> "
   ]
  },
  {
   "cell_type": "code",
   "execution_count": 11,
   "metadata": {},
   "outputs": [
    {
     "name": "stdout",
     "output_type": "stream",
     "text": [
      "Точность на тестовой выборке: 0.8102643856920684\n"
     ]
    }
   ],
   "source": [
    "best_model.fit(features_train, target_train)\n",
    "accuracy = best_model.score(features_test, target_test)\n",
    "print(\"Точность на тестовой выборке:\", accuracy)"
   ]
  },
  {
   "cell_type": "markdown",
   "metadata": {},
   "source": [
    "### Вывод:\n",
    "Я проверила лучшую модель (RandomForestClassifier(max_depth=6, n_estimators=11) на тестовой выборке и получила точность 0,81, что является достаточно хорошим показателем."
   ]
  },
  {
   "cell_type": "markdown",
   "metadata": {},
   "source": [
    "## 5. (бонус) Проверьте модели на адекватность <a id=\"step5\"></a> "
   ]
  },
  {
   "cell_type": "code",
   "execution_count": 22,
   "metadata": {},
   "outputs": [
    {
     "name": "stdout",
     "output_type": "stream",
     "text": [
      "0.6982892690513219\n"
     ]
    }
   ],
   "source": [
    "#проверим адекватность на примере DummyClassifier\n",
    "dummy_model = DummyClassifier(strategy=\"most_frequent\", random_state=123)\n",
    "dummy_model.fit(features_train, target_train)\n",
    "dummy_accuracy = dummy_model.score(features_test, target_test)\n",
    "print(\"точность простейшей модели\", dummy_accuracy)"
   ]
  },
  {
   "cell_type": "markdown",
   "metadata": {},
   "source": [
    "### Вывод:\n",
    "Она представляет собой простейшую (dummy) модель, которая всегда предсказывает наиболее часто встречающийся класс. "
   ]
  },
  {
   "cell_type": "markdown",
   "metadata": {},
   "source": [
    "## 6. Итоговый вывод  <a id=\"step6\"></a> "
   ]
  },
  {
   "cell_type": "markdown",
   "metadata": {},
   "source": [
    "Я загрузила таблицу с данными о поведении клиентов тарифов Smart и Ultra. Датасет состоит из 16715 строк и 11 колонок. Пропущенных данных и дублей нет. Типы колонок корректны, можно приступать к дальнейшему анализу. \n",
    "Так как у нас нет отдельной тестовой выборки, разбиваем исходные данные на три группы по правилу 3:1:1. Обучающая выборка - 60%, валидационная выборка - 20%, тестовая выборка - 20%. Все данные в выборках я разделина на признаки (features) и целевой признак 'is_ultra' (target).\n",
    "Я исследовала качество разных моделей, меняя гиперпараметры. Модели обучались на обучающей выборке (features_train, target_train), а их точность проверялась на валидационной выборке (features_valid, target_valid).\n",
    "В модели решающее дерево (DecisionTreeClassifier) я изменяла гиперпарамерт \"глубина дерева\" (max_depth), и наилучший результат с точностью 0.796 показала модель с \"глубиной дерева\" 3.\n",
    "В модели случайные лес (RandomForestClassifier) я изменяла гиперпарамерт \"глубина дерева\" (max_depth) и \"количество деревьев\" (n_estimators). Наилучший результат с точностью 0.8 показала модель с \"глубиной дерева\" 6  и \"количество деревьев\" 11.\n",
    "Точность модели логистическая реграссия (LogisticRegression) равна 0.696.\n",
    "Самая низкая точность у модели логистической регрессии, а точность моделей решающее дерево и случайный лес практически одинаковая. Лучше всего себя показала модель решающее дерево со следующими параметрами: RandomForestClassifier(bootstrap=True, class_weight=None, criterion='gini', max_depth=6, max_features='auto', max_leaf_nodes=None, min_impurity_decrease=0.0, min_impurity_split=None, min_samples_leaf=1, min_samples_split=2, min_weight_fraction_leaf=0.0, n_estimators=11, n_jobs=None, oob_score=False, random_state=123, verbose=0, warm_start=False).\n",
    "Я проверила лучшую модель RandomForestClassifier(max_depth=6, n_estimators=11) на тестовой выборке и получила точность 0,81, что является достаточно хорошим показателем."
   ]
  }
 ],
 "metadata": {
  "kernelspec": {
   "display_name": "Python 3",
   "language": "python",
   "name": "python3"
  },
  "language_info": {
   "codemirror_mode": {
    "name": "ipython",
    "version": 3
   },
   "file_extension": ".py",
   "mimetype": "text/x-python",
   "name": "python",
   "nbconvert_exporter": "python",
   "pygments_lexer": "ipython3",
   "version": "3.7.4"
  },
  "toc": {
   "base_numbering": 1,
   "nav_menu": {},
   "number_sections": true,
   "sideBar": true,
   "skip_h1_title": true,
   "title_cell": "Table of Contents",
   "title_sidebar": "Contents",
   "toc_cell": false,
   "toc_position": {},
   "toc_section_display": true,
   "toc_window_display": false
  }
 },
 "nbformat": 4,
 "nbformat_minor": 2
}
