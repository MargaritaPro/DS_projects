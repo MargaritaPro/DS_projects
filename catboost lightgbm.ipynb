{
 "cells": [
  {
   "cell_type": "markdown",
   "metadata": {},
   "source": [
    "# Определение стоимости автомобилей"
   ]
  },
  {
   "cell_type": "markdown",
   "metadata": {},
   "source": [
    "Сервис по продаже автомобилей с пробегом «Не бит, не крашен» разрабатывает приложение для привлечения новых клиентов. В нём можно быстро узнать рыночную стоимость своего автомобиля. В вашем распоряжении исторические данные: технические характеристики, комплектации и цены автомобилей. Вам нужно построить модель для определения стоимости. \n",
    "\n",
    "Заказчику важны:\n",
    "\n",
    "- качество предсказания;\n",
    "- скорость предсказания;\n",
    "- время обучения."
   ]
  },
  {
   "cell_type": "markdown",
   "metadata": {},
   "source": [
    "## Подготовка данных"
   ]
  },
  {
   "cell_type": "code",
   "execution_count": 2,
   "metadata": {},
   "outputs": [],
   "source": [
    "import pandas as pd\n",
    "import numpy as np\n",
    "import matplotlib.pyplot as plt\n",
    "\n",
    "\n",
    "from sklearn.model_selection import train_test_split\n",
    "from sklearn.preprocessing import StandardScaler\n",
    "from sklearn.linear_model import LinearRegression\n",
    "from sklearn.preprocessing import StandardScaler\n",
    "from sklearn.ensemble import RandomForestRegressor\n",
    "from catboost import CatBoostRegressor\n",
    "from sklearn.dummy import DummyRegressor\n",
    "from sklearn.model_selection import cross_val_score\n",
    "from sklearn.preprocessing import OrdinalEncoder \n",
    "from lightgbm import LGBMRegressor\n",
    "\n",
    "import lightgbm as lgb\n",
    "\n",
    "from sklearn.metrics import mean_squared_error"
   ]
  },
  {
   "cell_type": "code",
   "execution_count": 3,
   "metadata": {},
   "outputs": [],
   "source": [
    "data = pd.read_csv('https://code.s3.yandex.net/datasets/autos.csv')"
   ]
  },
  {
   "cell_type": "code",
   "execution_count": 6,
   "metadata": {},
   "outputs": [
    {
     "data": {
      "text/html": [
       "<div>\n",
       "<style scoped>\n",
       "    .dataframe tbody tr th:only-of-type {\n",
       "        vertical-align: middle;\n",
       "    }\n",
       "\n",
       "    .dataframe tbody tr th {\n",
       "        vertical-align: top;\n",
       "    }\n",
       "\n",
       "    .dataframe thead th {\n",
       "        text-align: right;\n",
       "    }\n",
       "</style>\n",
       "<table border=\"1\" class=\"dataframe\">\n",
       "  <thead>\n",
       "    <tr style=\"text-align: right;\">\n",
       "      <th></th>\n",
       "      <th>DateCrawled</th>\n",
       "      <th>Price</th>\n",
       "      <th>VehicleType</th>\n",
       "      <th>RegistrationYear</th>\n",
       "      <th>Gearbox</th>\n",
       "      <th>Power</th>\n",
       "      <th>Model</th>\n",
       "      <th>Kilometer</th>\n",
       "      <th>RegistrationMonth</th>\n",
       "      <th>FuelType</th>\n",
       "      <th>Brand</th>\n",
       "      <th>NotRepaired</th>\n",
       "      <th>DateCreated</th>\n",
       "      <th>NumberOfPictures</th>\n",
       "      <th>PostalCode</th>\n",
       "      <th>LastSeen</th>\n",
       "    </tr>\n",
       "  </thead>\n",
       "  <tbody>\n",
       "    <tr>\n",
       "      <td>0</td>\n",
       "      <td>2016-03-24 11:52:17</td>\n",
       "      <td>480</td>\n",
       "      <td>NaN</td>\n",
       "      <td>1993</td>\n",
       "      <td>manual</td>\n",
       "      <td>0</td>\n",
       "      <td>golf</td>\n",
       "      <td>150000</td>\n",
       "      <td>0</td>\n",
       "      <td>petrol</td>\n",
       "      <td>volkswagen</td>\n",
       "      <td>NaN</td>\n",
       "      <td>2016-03-24 00:00:00</td>\n",
       "      <td>0</td>\n",
       "      <td>70435</td>\n",
       "      <td>2016-04-07 03:16:57</td>\n",
       "    </tr>\n",
       "    <tr>\n",
       "      <td>1</td>\n",
       "      <td>2016-03-24 10:58:45</td>\n",
       "      <td>18300</td>\n",
       "      <td>coupe</td>\n",
       "      <td>2011</td>\n",
       "      <td>manual</td>\n",
       "      <td>190</td>\n",
       "      <td>NaN</td>\n",
       "      <td>125000</td>\n",
       "      <td>5</td>\n",
       "      <td>gasoline</td>\n",
       "      <td>audi</td>\n",
       "      <td>yes</td>\n",
       "      <td>2016-03-24 00:00:00</td>\n",
       "      <td>0</td>\n",
       "      <td>66954</td>\n",
       "      <td>2016-04-07 01:46:50</td>\n",
       "    </tr>\n",
       "    <tr>\n",
       "      <td>2</td>\n",
       "      <td>2016-03-14 12:52:21</td>\n",
       "      <td>9800</td>\n",
       "      <td>suv</td>\n",
       "      <td>2004</td>\n",
       "      <td>auto</td>\n",
       "      <td>163</td>\n",
       "      <td>grand</td>\n",
       "      <td>125000</td>\n",
       "      <td>8</td>\n",
       "      <td>gasoline</td>\n",
       "      <td>jeep</td>\n",
       "      <td>NaN</td>\n",
       "      <td>2016-03-14 00:00:00</td>\n",
       "      <td>0</td>\n",
       "      <td>90480</td>\n",
       "      <td>2016-04-05 12:47:46</td>\n",
       "    </tr>\n",
       "    <tr>\n",
       "      <td>3</td>\n",
       "      <td>2016-03-17 16:54:04</td>\n",
       "      <td>1500</td>\n",
       "      <td>small</td>\n",
       "      <td>2001</td>\n",
       "      <td>manual</td>\n",
       "      <td>75</td>\n",
       "      <td>golf</td>\n",
       "      <td>150000</td>\n",
       "      <td>6</td>\n",
       "      <td>petrol</td>\n",
       "      <td>volkswagen</td>\n",
       "      <td>no</td>\n",
       "      <td>2016-03-17 00:00:00</td>\n",
       "      <td>0</td>\n",
       "      <td>91074</td>\n",
       "      <td>2016-03-17 17:40:17</td>\n",
       "    </tr>\n",
       "    <tr>\n",
       "      <td>4</td>\n",
       "      <td>2016-03-31 17:25:20</td>\n",
       "      <td>3600</td>\n",
       "      <td>small</td>\n",
       "      <td>2008</td>\n",
       "      <td>manual</td>\n",
       "      <td>69</td>\n",
       "      <td>fabia</td>\n",
       "      <td>90000</td>\n",
       "      <td>7</td>\n",
       "      <td>gasoline</td>\n",
       "      <td>skoda</td>\n",
       "      <td>no</td>\n",
       "      <td>2016-03-31 00:00:00</td>\n",
       "      <td>0</td>\n",
       "      <td>60437</td>\n",
       "      <td>2016-04-06 10:17:21</td>\n",
       "    </tr>\n",
       "  </tbody>\n",
       "</table>\n",
       "</div>"
      ],
      "text/plain": [
       "           DateCrawled  Price VehicleType  RegistrationYear Gearbox  Power  \\\n",
       "0  2016-03-24 11:52:17    480         NaN              1993  manual      0   \n",
       "1  2016-03-24 10:58:45  18300       coupe              2011  manual    190   \n",
       "2  2016-03-14 12:52:21   9800         suv              2004    auto    163   \n",
       "3  2016-03-17 16:54:04   1500       small              2001  manual     75   \n",
       "4  2016-03-31 17:25:20   3600       small              2008  manual     69   \n",
       "\n",
       "   Model  Kilometer  RegistrationMonth  FuelType       Brand NotRepaired  \\\n",
       "0   golf     150000                  0    petrol  volkswagen         NaN   \n",
       "1    NaN     125000                  5  gasoline        audi         yes   \n",
       "2  grand     125000                  8  gasoline        jeep         NaN   \n",
       "3   golf     150000                  6    petrol  volkswagen          no   \n",
       "4  fabia      90000                  7  gasoline       skoda          no   \n",
       "\n",
       "           DateCreated  NumberOfPictures  PostalCode             LastSeen  \n",
       "0  2016-03-24 00:00:00                 0       70435  2016-04-07 03:16:57  \n",
       "1  2016-03-24 00:00:00                 0       66954  2016-04-07 01:46:50  \n",
       "2  2016-03-14 00:00:00                 0       90480  2016-04-05 12:47:46  \n",
       "3  2016-03-17 00:00:00                 0       91074  2016-03-17 17:40:17  \n",
       "4  2016-03-31 00:00:00                 0       60437  2016-04-06 10:17:21  "
      ]
     },
     "metadata": {},
     "output_type": "display_data"
    },
    {
     "name": "stdout",
     "output_type": "stream",
     "text": [
      "Размер таблицы (354369, 16)\n",
      "Дублей: 4\n",
      "<class 'pandas.core.frame.DataFrame'>\n",
      "RangeIndex: 354369 entries, 0 to 354368\n",
      "Data columns (total 16 columns):\n",
      "DateCrawled          354369 non-null object\n",
      "Price                354369 non-null int64\n",
      "VehicleType          316879 non-null object\n",
      "RegistrationYear     354369 non-null int64\n",
      "Gearbox              334536 non-null object\n",
      "Power                354369 non-null int64\n",
      "Model                334664 non-null object\n",
      "Kilometer            354369 non-null int64\n",
      "RegistrationMonth    354369 non-null int64\n",
      "FuelType             321474 non-null object\n",
      "Brand                354369 non-null object\n",
      "NotRepaired          283215 non-null object\n",
      "DateCreated          354369 non-null object\n",
      "NumberOfPictures     354369 non-null int64\n",
      "PostalCode           354369 non-null int64\n",
      "LastSeen             354369 non-null object\n",
      "dtypes: int64(7), object(9)\n",
      "memory usage: 43.3+ MB\n",
      "None\n",
      "DateCrawled              0\n",
      "Price                    0\n",
      "VehicleType          37490\n",
      "RegistrationYear         0\n",
      "Gearbox              19833\n",
      "Power                    0\n",
      "Model                19705\n",
      "Kilometer                0\n",
      "RegistrationMonth        0\n",
      "FuelType             32895\n",
      "Brand                    0\n",
      "NotRepaired          71154\n",
      "DateCreated              0\n",
      "NumberOfPictures         0\n",
      "PostalCode               0\n",
      "LastSeen                 0\n",
      "dtype: int64\n",
      "               Price  RegistrationYear          Power      Kilometer  \\\n",
      "count  354369.000000     354369.000000  354369.000000  354369.000000   \n",
      "mean     4416.656776       2004.234448     110.094337  128211.172535   \n",
      "std      4514.158514         90.227958     189.850405   37905.341530   \n",
      "min         0.000000       1000.000000       0.000000    5000.000000   \n",
      "25%      1050.000000       1999.000000      69.000000  125000.000000   \n",
      "50%      2700.000000       2003.000000     105.000000  150000.000000   \n",
      "75%      6400.000000       2008.000000     143.000000  150000.000000   \n",
      "max     20000.000000       9999.000000   20000.000000  150000.000000   \n",
      "\n",
      "       RegistrationMonth  NumberOfPictures     PostalCode  \n",
      "count      354369.000000          354369.0  354369.000000  \n",
      "mean            5.714645               0.0   50508.689087  \n",
      "std             3.726421               0.0   25783.096248  \n",
      "min             0.000000               0.0    1067.000000  \n",
      "25%             3.000000               0.0   30165.000000  \n",
      "50%             6.000000               0.0   49413.000000  \n",
      "75%             9.000000               0.0   71083.000000  \n",
      "max            12.000000               0.0   99998.000000  \n"
     ]
    }
   ],
   "source": [
    "display(data.head())\n",
    "print(\"Размер таблицы\", data.shape)\n",
    "print(\"Дублей:\", data.duplicated().sum())\n",
    "print(data.info())\n",
    "print(data.isnull().sum())\n",
    "print(data.describe())"
   ]
  },
  {
   "cell_type": "code",
   "execution_count": 7,
   "metadata": {},
   "outputs": [],
   "source": [
    "#избавимся от дубликатов, преобразуем соответствующие данные в формат даты\n",
    "\n",
    "#display(data.loc[data.duplicated(keep=False)])\n",
    "data = data.drop_duplicates().reset_index(drop=True)\n",
    "data['DateCrawled'] = pd.to_datetime(data['DateCrawled'], format= '%Y-%m-%d %H:%M:%S')\n",
    "data['DateCreated'] = pd.to_datetime(data['DateCreated'], format= '%Y-%m-%d %H:%M:%S')\n",
    "data['LastSeen'] = pd.to_datetime(data['LastSeen'], format= '%Y-%m-%d %H:%M:%S')"
   ]
  },
  {
   "cell_type": "code",
   "execution_count": 8,
   "metadata": {},
   "outputs": [
    {
     "name": "stdout",
     "output_type": "stream",
     "text": [
      "VehicleType: [nan 'coupe' 'suv' 'small' 'sedan' 'convertible' 'bus' 'wagon' 'other']\n",
      "Gearbox: ['manual' 'auto' nan]\n",
      "Model count: 251\n",
      "FuelType: ['petrol' 'gasoline' nan 'lpg' 'other' 'hybrid' 'cng' 'electric']\n",
      "NotRepaired: [nan 'yes' 'no']\n",
      "NumberOfPictures: [0]\n",
      "PostalCode count: 8143\n",
      "Price=0 count: 10772\n",
      "RegistrationYear:\n",
      "max 9999\n",
      "2000    24490\n",
      "1999    22727\n",
      "2005    22109\n",
      "2001    20123\n",
      "2006    19900\n",
      "        ...  \n",
      "3200        1\n",
      "1920        1\n",
      "1919        1\n",
      "1915        1\n",
      "8455        1\n",
      "Name: RegistrationYear, Length: 151, dtype: int64\n"
     ]
    }
   ],
   "source": [
    "#посмотрим уникальные значения в столбцах с пропущенными значениями (и не только)\n",
    "\n",
    "print(\"VehicleType:\", data['VehicleType'].unique())\n",
    "print(\"Gearbox:\", data['Gearbox'].unique())\n",
    "#print(\"Model:\", data['Model'].unique())\n",
    "print(\"Model count:\", len(data['Model'].unique()))\n",
    "print(\"FuelType:\", data['FuelType'].unique())\n",
    "print(\"NotRepaired:\", data['NotRepaired'].unique())\n",
    "print(\"NumberOfPictures:\", data['NumberOfPictures'].unique())\n",
    "print(\"PostalCode count:\", len(data['PostalCode'].unique()))\n",
    "print(\"Price=0 count:\", len(data.query('Price==0')))\n",
    "print('RegistrationYear:')\n",
    "print(\"max\", data['RegistrationYear'].max())\n",
    "print(data['RegistrationYear'].value_counts())"
   ]
  },
  {
   "cell_type": "code",
   "execution_count": 9,
   "metadata": {},
   "outputs": [],
   "source": [
    "# заполним пропуски unknown, удалим столбец NumberOfPictures, т.к. везде одно значение\n",
    "nan_list = ['VehicleType', 'Gearbox', 'Model', 'FuelType', 'NotRepaired']\n",
    "for i in nan_list:\n",
    "    data[i] = data[i].fillna('unknown')\n",
    "    \n",
    "data['yearcreated'] = pd.DatetimeIndex(data['DateCreated']).year\n",
    "data['monthcreated'] = pd.DatetimeIndex(data['DateCreated']).month\n",
    "\n",
    "data = data.drop(['NumberOfPictures', 'LastSeen', 'DateCrawled', \"DateCreated\"], axis = 1)\n",
    "data = data.query('Price!=0')\n"
   ]
  },
  {
   "cell_type": "code",
   "execution_count": 10,
   "metadata": {
    "scrolled": true
   },
   "outputs": [
    {
     "name": "stdout",
     "output_type": "stream",
     "text": [
      "179\n"
     ]
    }
   ],
   "source": [
    "# исправляем нереальные значения RegistrationYear\n",
    "\n",
    "now_year = 2020\n",
    "data = data.query('RegistrationYear<=2020')\n",
    "\n",
    "mean_year = data['RegistrationYear'].mean()\n",
    "sigma = np.std(data['RegistrationYear'])\n",
    "# возьмем не 3 а 4 сигмы, тк возможно выбросы это не аномальные значения, а, например, раритетные машины.\n",
    "last_year = int(mean_year - 4 *sigma) \n",
    "print(len(data.query('RegistrationYear < @last_year')))\n",
    "data = data.query('RegistrationYear >= @last_year')"
   ]
  },
  {
   "cell_type": "code",
   "execution_count": 12,
   "metadata": {},
   "outputs": [
    {
     "data": {
      "text/html": [
       "<div>\n",
       "<style scoped>\n",
       "    .dataframe tbody tr th:only-of-type {\n",
       "        vertical-align: middle;\n",
       "    }\n",
       "\n",
       "    .dataframe tbody tr th {\n",
       "        vertical-align: top;\n",
       "    }\n",
       "\n",
       "    .dataframe thead th {\n",
       "        text-align: right;\n",
       "    }\n",
       "</style>\n",
       "<table border=\"1\" class=\"dataframe\">\n",
       "  <thead>\n",
       "    <tr style=\"text-align: right;\">\n",
       "      <th></th>\n",
       "      <th>Price</th>\n",
       "      <th>RegistrationYear</th>\n",
       "      <th>Power</th>\n",
       "      <th>Kilometer</th>\n",
       "      <th>RegistrationMonth</th>\n",
       "      <th>PostalCode</th>\n",
       "      <th>yearcreated</th>\n",
       "      <th>monthcreated</th>\n",
       "    </tr>\n",
       "  </thead>\n",
       "  <tbody>\n",
       "    <tr>\n",
       "      <td>Price</td>\n",
       "      <td>1.000000</td>\n",
       "      <td>0.384775</td>\n",
       "      <td>0.160999</td>\n",
       "      <td>-0.352079</td>\n",
       "      <td>0.097540</td>\n",
       "      <td>0.071609</td>\n",
       "      <td>-0.005377</td>\n",
       "      <td>0.014747</td>\n",
       "    </tr>\n",
       "    <tr>\n",
       "      <td>RegistrationYear</td>\n",
       "      <td>0.384775</td>\n",
       "      <td>1.000000</td>\n",
       "      <td>0.034039</td>\n",
       "      <td>-0.200405</td>\n",
       "      <td>0.037364</td>\n",
       "      <td>0.022088</td>\n",
       "      <td>-0.000500</td>\n",
       "      <td>0.001970</td>\n",
       "    </tr>\n",
       "    <tr>\n",
       "      <td>Power</td>\n",
       "      <td>0.160999</td>\n",
       "      <td>0.034039</td>\n",
       "      <td>1.000000</td>\n",
       "      <td>0.021371</td>\n",
       "      <td>0.038338</td>\n",
       "      <td>0.020805</td>\n",
       "      <td>0.000100</td>\n",
       "      <td>0.002897</td>\n",
       "    </tr>\n",
       "    <tr>\n",
       "      <td>Kilometer</td>\n",
       "      <td>-0.352079</td>\n",
       "      <td>-0.200405</td>\n",
       "      <td>0.021371</td>\n",
       "      <td>1.000000</td>\n",
       "      <td>0.000244</td>\n",
       "      <td>-0.009368</td>\n",
       "      <td>0.004846</td>\n",
       "      <td>-0.002141</td>\n",
       "    </tr>\n",
       "    <tr>\n",
       "      <td>RegistrationMonth</td>\n",
       "      <td>0.097540</td>\n",
       "      <td>0.037364</td>\n",
       "      <td>0.038338</td>\n",
       "      <td>0.000244</td>\n",
       "      <td>1.000000</td>\n",
       "      <td>0.009745</td>\n",
       "      <td>0.003522</td>\n",
       "      <td>-0.002381</td>\n",
       "    </tr>\n",
       "    <tr>\n",
       "      <td>PostalCode</td>\n",
       "      <td>0.071609</td>\n",
       "      <td>0.022088</td>\n",
       "      <td>0.020805</td>\n",
       "      <td>-0.009368</td>\n",
       "      <td>0.009745</td>\n",
       "      <td>1.000000</td>\n",
       "      <td>0.000660</td>\n",
       "      <td>0.010177</td>\n",
       "    </tr>\n",
       "    <tr>\n",
       "      <td>yearcreated</td>\n",
       "      <td>-0.005377</td>\n",
       "      <td>-0.000500</td>\n",
       "      <td>0.000100</td>\n",
       "      <td>0.004846</td>\n",
       "      <td>0.003522</td>\n",
       "      <td>0.000660</td>\n",
       "      <td>1.000000</td>\n",
       "      <td>-0.151228</td>\n",
       "    </tr>\n",
       "    <tr>\n",
       "      <td>monthcreated</td>\n",
       "      <td>0.014747</td>\n",
       "      <td>0.001970</td>\n",
       "      <td>0.002897</td>\n",
       "      <td>-0.002141</td>\n",
       "      <td>-0.002381</td>\n",
       "      <td>0.010177</td>\n",
       "      <td>-0.151228</td>\n",
       "      <td>1.000000</td>\n",
       "    </tr>\n",
       "  </tbody>\n",
       "</table>\n",
       "</div>"
      ],
      "text/plain": [
       "                      Price  RegistrationYear     Power  Kilometer  \\\n",
       "Price              1.000000          0.384775  0.160999  -0.352079   \n",
       "RegistrationYear   0.384775          1.000000  0.034039  -0.200405   \n",
       "Power              0.160999          0.034039  1.000000   0.021371   \n",
       "Kilometer         -0.352079         -0.200405  0.021371   1.000000   \n",
       "RegistrationMonth  0.097540          0.037364  0.038338   0.000244   \n",
       "PostalCode         0.071609          0.022088  0.020805  -0.009368   \n",
       "yearcreated       -0.005377         -0.000500  0.000100   0.004846   \n",
       "monthcreated       0.014747          0.001970  0.002897  -0.002141   \n",
       "\n",
       "                   RegistrationMonth  PostalCode  yearcreated  monthcreated  \n",
       "Price                       0.097540    0.071609    -0.005377      0.014747  \n",
       "RegistrationYear            0.037364    0.022088    -0.000500      0.001970  \n",
       "Power                       0.038338    0.020805     0.000100      0.002897  \n",
       "Kilometer                   0.000244   -0.009368     0.004846     -0.002141  \n",
       "RegistrationMonth           1.000000    0.009745     0.003522     -0.002381  \n",
       "PostalCode                  0.009745    1.000000     0.000660      0.010177  \n",
       "yearcreated                 0.003522    0.000660     1.000000     -0.151228  \n",
       "monthcreated               -0.002381    0.010177    -0.151228      1.000000  "
      ]
     },
     "metadata": {},
     "output_type": "display_data"
    },
    {
     "data": {
      "image/png": "[encoded data removed]",
      "text/plain": [
       "<Figure size 288x288 with 1 Axes>"
      ]
     },
     "metadata": {
      "needs_background": "light"
     },
     "output_type": "display_data"
    }
   ],
   "source": [
    "#посмтроим матрицу диаграмм рассеяния\n",
    "display(data.corr())\n",
    "#pd.plotting.scatter_matrix(data, figsize = (16,16))\n",
    "plt.show()\n",
    "\n",
    "plt.matshow(data.corr())\n",
    "plt.show()"
   ]
  },
  {
   "cell_type": "code",
   "execution_count": 13,
   "metadata": {},
   "outputs": [
    {
     "data": {
      "image/png": "[encoded data removed]",
      "text/plain": [
       "<Figure size 432x288 with 1 Axes>"
      ]
     },
     "metadata": {
      "needs_background": "light"
     },
     "output_type": "display_data"
    },
    {
     "data": {
      "image/png": "[encoded data removed]",
      "text/plain": [
       "<Figure size 432x288 with 1 Axes>"
      ]
     },
     "metadata": {
      "needs_background": "light"
     },
     "output_type": "display_data"
    },
    {
     "data": {
      "image/png": "[encoded data removed]",
      "text/plain": [
       "<Figure size 432x288 with 1 Axes>"
      ]
     },
     "metadata": {
      "needs_background": "light"
     },
     "output_type": "display_data"
    },
    {
     "data": {
      "image/png": "[encoded data removed]",
      "text/plain": [
       "<Figure size 432x288 with 1 Axes>"
      ]
     },
     "metadata": {
      "needs_background": "light"
     },
     "output_type": "display_data"
    },
    {
     "data": {
      "image/png": "[encoded data removed]",
      "text/plain": [
       "<Figure size 432x288 with 1 Axes>"
      ]
     },
     "metadata": {
      "needs_background": "light"
     },
     "output_type": "display_data"
    },
    {
     "data": {
      "image/png": "[encoded data removed]",
      "text/plain": [
       "<Figure size 432x288 with 1 Axes>"
      ]
     },
     "metadata": {
      "needs_background": "light"
     },
     "output_type": "display_data"
    },
    {
     "data": {
      "image/png": "[encoded data removed]",
      "text/plain": [
       "<Figure size 432x288 with 1 Axes>"
      ]
     },
     "metadata": {
      "needs_background": "light"
     },
     "output_type": "display_data"
    },
    {
     "data": {
      "image/png": "[encoded data removed]",
      "text/plain": [
       "<Figure size 432x288 with 1 Axes>"
      ]
     },
     "metadata": {
      "needs_background": "light"
     },
     "output_type": "display_data"
    }
   ],
   "source": [
    "# посмотрим выбросы\n",
    "hist_list = ['Price', 'RegistrationYear', 'Power', 'Kilometer']\n",
    "for i in hist_list:\n",
    "    plt.hist(data[i], bins=50)\n",
    "    plt.title(f\"Гистограмма {i}\")\n",
    "    plt.xlabel(\"значения\")\n",
    "    plt.ylabel(\"частота\")\n",
    "    plt.show()\n",
    "    \n",
    "    plt.boxplot(data[i])\n",
    "    plt.title(f\"Boxplot {i}\")\n",
    "    plt.show()"
   ]
  },
  {
   "cell_type": "code",
   "execution_count": 14,
   "metadata": {},
   "outputs": [
    {
     "name": "stdout",
     "output_type": "stream",
     "text": [
      "326\n"
     ]
    },
    {
     "data": {
      "text/html": [
       "<div>\n",
       "<style scoped>\n",
       "    .dataframe tbody tr th:only-of-type {\n",
       "        vertical-align: middle;\n",
       "    }\n",
       "\n",
       "    .dataframe tbody tr th {\n",
       "        vertical-align: top;\n",
       "    }\n",
       "\n",
       "    .dataframe thead th {\n",
       "        text-align: right;\n",
       "    }\n",
       "</style>\n",
       "<table border=\"1\" class=\"dataframe\">\n",
       "  <thead>\n",
       "    <tr style=\"text-align: right;\">\n",
       "      <th></th>\n",
       "      <th>Price</th>\n",
       "      <th>VehicleType</th>\n",
       "      <th>RegistrationYear</th>\n",
       "      <th>Gearbox</th>\n",
       "      <th>Power</th>\n",
       "      <th>Model</th>\n",
       "      <th>Kilometer</th>\n",
       "      <th>RegistrationMonth</th>\n",
       "      <th>FuelType</th>\n",
       "      <th>Brand</th>\n",
       "      <th>NotRepaired</th>\n",
       "      <th>PostalCode</th>\n",
       "      <th>yearcreated</th>\n",
       "      <th>monthcreated</th>\n",
       "    </tr>\n",
       "  </thead>\n",
       "  <tbody>\n",
       "    <tr>\n",
       "      <td>1816</td>\n",
       "      <td>3200</td>\n",
       "      <td>small</td>\n",
       "      <td>2004</td>\n",
       "      <td>manual</td>\n",
       "      <td>1398</td>\n",
       "      <td>corolla</td>\n",
       "      <td>5000</td>\n",
       "      <td>6</td>\n",
       "      <td>petrol</td>\n",
       "      <td>toyota</td>\n",
       "      <td>no</td>\n",
       "      <td>22043</td>\n",
       "      <td>2016</td>\n",
       "      <td>3</td>\n",
       "    </tr>\n",
       "    <tr>\n",
       "      <td>4060</td>\n",
       "      <td>3100</td>\n",
       "      <td>sedan</td>\n",
       "      <td>2005</td>\n",
       "      <td>manual</td>\n",
       "      <td>953</td>\n",
       "      <td>colt</td>\n",
       "      <td>150000</td>\n",
       "      <td>4</td>\n",
       "      <td>gasoline</td>\n",
       "      <td>mitsubishi</td>\n",
       "      <td>no</td>\n",
       "      <td>60326</td>\n",
       "      <td>2016</td>\n",
       "      <td>4</td>\n",
       "    </tr>\n",
       "    <tr>\n",
       "      <td>5328</td>\n",
       "      <td>500</td>\n",
       "      <td>wagon</td>\n",
       "      <td>1999</td>\n",
       "      <td>manual</td>\n",
       "      <td>1001</td>\n",
       "      <td>astra</td>\n",
       "      <td>150000</td>\n",
       "      <td>7</td>\n",
       "      <td>petrol</td>\n",
       "      <td>opel</td>\n",
       "      <td>unknown</td>\n",
       "      <td>33154</td>\n",
       "      <td>2016</td>\n",
       "      <td>3</td>\n",
       "    </tr>\n",
       "    <tr>\n",
       "      <td>6504</td>\n",
       "      <td>3000</td>\n",
       "      <td>small</td>\n",
       "      <td>2009</td>\n",
       "      <td>manual</td>\n",
       "      <td>771</td>\n",
       "      <td>punto</td>\n",
       "      <td>125000</td>\n",
       "      <td>0</td>\n",
       "      <td>petrol</td>\n",
       "      <td>fiat</td>\n",
       "      <td>unknown</td>\n",
       "      <td>40721</td>\n",
       "      <td>2016</td>\n",
       "      <td>3</td>\n",
       "    </tr>\n",
       "    <tr>\n",
       "      <td>7661</td>\n",
       "      <td>1499</td>\n",
       "      <td>small</td>\n",
       "      <td>1999</td>\n",
       "      <td>manual</td>\n",
       "      <td>7515</td>\n",
       "      <td>lupo</td>\n",
       "      <td>150000</td>\n",
       "      <td>4</td>\n",
       "      <td>petrol</td>\n",
       "      <td>volkswagen</td>\n",
       "      <td>unknown</td>\n",
       "      <td>65830</td>\n",
       "      <td>2016</td>\n",
       "      <td>4</td>\n",
       "    </tr>\n",
       "  </tbody>\n",
       "</table>\n",
       "</div>"
      ],
      "text/plain": [
       "      Price VehicleType  RegistrationYear Gearbox  Power    Model  Kilometer  \\\n",
       "1816   3200       small              2004  manual   1398  corolla       5000   \n",
       "4060   3100       sedan              2005  manual    953     colt     150000   \n",
       "5328    500       wagon              1999  manual   1001    astra     150000   \n",
       "6504   3000       small              2009  manual    771    punto     125000   \n",
       "7661   1499       small              1999  manual   7515     lupo     150000   \n",
       "\n",
       "      RegistrationMonth  FuelType       Brand NotRepaired  PostalCode  \\\n",
       "1816                  6    petrol      toyota          no       22043   \n",
       "4060                  4  gasoline  mitsubishi          no       60326   \n",
       "5328                  7    petrol        opel     unknown       33154   \n",
       "6504                  0    petrol        fiat     unknown       40721   \n",
       "7661                  4    petrol  volkswagen     unknown       65830   \n",
       "\n",
       "      yearcreated  monthcreated  \n",
       "1816         2016             3  \n",
       "4060         2016             4  \n",
       "5328         2016             3  \n",
       "6504         2016             3  \n",
       "7661         2016             4  "
      ]
     },
     "metadata": {},
     "output_type": "display_data"
    }
   ],
   "source": [
    "# разберемся с выбросами в столбце Power\n",
    "#print(data['Power'].describe())\n",
    "\n",
    "mean_power = data['Power'].mean()\n",
    "sigma = np.std(data['Power'])\n",
    "max_power = int(mean_power + 3 *sigma) \n",
    "print(len(data.query('Power > @max_power')))\n",
    "display(data.query('Power > @max_power').head())"
   ]
  },
  {
   "cell_type": "code",
   "execution_count": 15,
   "metadata": {},
   "outputs": [],
   "source": [
    "#удалим выбросы в столбце Power\n",
    "data = data.query('Power <= @max_power')"
   ]
  },
  {
   "cell_type": "code",
   "execution_count": 16,
   "metadata": {},
   "outputs": [
    {
     "data": {
      "text/html": [
       "<div>\n",
       "<style scoped>\n",
       "    .dataframe tbody tr th:only-of-type {\n",
       "        vertical-align: middle;\n",
       "    }\n",
       "\n",
       "    .dataframe tbody tr th {\n",
       "        vertical-align: top;\n",
       "    }\n",
       "\n",
       "    .dataframe thead th {\n",
       "        text-align: right;\n",
       "    }\n",
       "</style>\n",
       "<table border=\"1\" class=\"dataframe\">\n",
       "  <thead>\n",
       "    <tr style=\"text-align: right;\">\n",
       "      <th></th>\n",
       "      <th>Price</th>\n",
       "      <th>RegistrationYear</th>\n",
       "      <th>Power</th>\n",
       "      <th>Kilometer</th>\n",
       "      <th>RegistrationMonth</th>\n",
       "      <th>PostalCode</th>\n",
       "      <th>yearcreated</th>\n",
       "      <th>monthcreated</th>\n",
       "    </tr>\n",
       "  </thead>\n",
       "  <tbody>\n",
       "    <tr>\n",
       "      <td>Price</td>\n",
       "      <td>1.000000</td>\n",
       "      <td>0.384842</td>\n",
       "      <td>0.489803</td>\n",
       "      <td>-0.352286</td>\n",
       "      <td>0.097536</td>\n",
       "      <td>0.071560</td>\n",
       "      <td>-0.005376</td>\n",
       "      <td>0.014698</td>\n",
       "    </tr>\n",
       "    <tr>\n",
       "      <td>RegistrationYear</td>\n",
       "      <td>0.384842</td>\n",
       "      <td>1.000000</td>\n",
       "      <td>0.104448</td>\n",
       "      <td>-0.200666</td>\n",
       "      <td>0.037434</td>\n",
       "      <td>0.022118</td>\n",
       "      <td>-0.000500</td>\n",
       "      <td>0.001877</td>\n",
       "    </tr>\n",
       "    <tr>\n",
       "      <td>Power</td>\n",
       "      <td>0.489803</td>\n",
       "      <td>0.104448</td>\n",
       "      <td>1.000000</td>\n",
       "      <td>0.078311</td>\n",
       "      <td>0.117570</td>\n",
       "      <td>0.072695</td>\n",
       "      <td>-0.000169</td>\n",
       "      <td>0.005494</td>\n",
       "    </tr>\n",
       "    <tr>\n",
       "      <td>Kilometer</td>\n",
       "      <td>-0.352286</td>\n",
       "      <td>-0.200666</td>\n",
       "      <td>0.078311</td>\n",
       "      <td>1.000000</td>\n",
       "      <td>0.000298</td>\n",
       "      <td>-0.009446</td>\n",
       "      <td>0.004850</td>\n",
       "      <td>-0.002234</td>\n",
       "    </tr>\n",
       "    <tr>\n",
       "      <td>RegistrationMonth</td>\n",
       "      <td>0.097536</td>\n",
       "      <td>0.037434</td>\n",
       "      <td>0.117570</td>\n",
       "      <td>0.000298</td>\n",
       "      <td>1.000000</td>\n",
       "      <td>0.009713</td>\n",
       "      <td>0.003525</td>\n",
       "      <td>-0.002383</td>\n",
       "    </tr>\n",
       "    <tr>\n",
       "      <td>PostalCode</td>\n",
       "      <td>0.071560</td>\n",
       "      <td>0.022118</td>\n",
       "      <td>0.072695</td>\n",
       "      <td>-0.009446</td>\n",
       "      <td>0.009713</td>\n",
       "      <td>1.000000</td>\n",
       "      <td>0.000662</td>\n",
       "      <td>0.010227</td>\n",
       "    </tr>\n",
       "    <tr>\n",
       "      <td>yearcreated</td>\n",
       "      <td>-0.005376</td>\n",
       "      <td>-0.000500</td>\n",
       "      <td>-0.000169</td>\n",
       "      <td>0.004850</td>\n",
       "      <td>0.003525</td>\n",
       "      <td>0.000662</td>\n",
       "      <td>1.000000</td>\n",
       "      <td>-0.151304</td>\n",
       "    </tr>\n",
       "    <tr>\n",
       "      <td>monthcreated</td>\n",
       "      <td>0.014698</td>\n",
       "      <td>0.001877</td>\n",
       "      <td>0.005494</td>\n",
       "      <td>-0.002234</td>\n",
       "      <td>-0.002383</td>\n",
       "      <td>0.010227</td>\n",
       "      <td>-0.151304</td>\n",
       "      <td>1.000000</td>\n",
       "    </tr>\n",
       "  </tbody>\n",
       "</table>\n",
       "</div>"
      ],
      "text/plain": [
       "                      Price  RegistrationYear     Power  Kilometer  \\\n",
       "Price              1.000000          0.384842  0.489803  -0.352286   \n",
       "RegistrationYear   0.384842          1.000000  0.104448  -0.200666   \n",
       "Power              0.489803          0.104448  1.000000   0.078311   \n",
       "Kilometer         -0.352286         -0.200666  0.078311   1.000000   \n",
       "RegistrationMonth  0.097536          0.037434  0.117570   0.000298   \n",
       "PostalCode         0.071560          0.022118  0.072695  -0.009446   \n",
       "yearcreated       -0.005376         -0.000500 -0.000169   0.004850   \n",
       "monthcreated       0.014698          0.001877  0.005494  -0.002234   \n",
       "\n",
       "                   RegistrationMonth  PostalCode  yearcreated  monthcreated  \n",
       "Price                       0.097536    0.071560    -0.005376      0.014698  \n",
       "RegistrationYear            0.037434    0.022118    -0.000500      0.001877  \n",
       "Power                       0.117570    0.072695    -0.000169      0.005494  \n",
       "Kilometer                   0.000298   -0.009446     0.004850     -0.002234  \n",
       "RegistrationMonth           1.000000    0.009713     0.003525     -0.002383  \n",
       "PostalCode                  0.009713    1.000000     0.000662      0.010227  \n",
       "yearcreated                 0.003525    0.000662     1.000000     -0.151304  \n",
       "monthcreated               -0.002383    0.010227    -0.151304      1.000000  "
      ]
     },
     "metadata": {},
     "output_type": "display_data"
    }
   ],
   "source": [
    "#еще раз посмтроим на коэф. кор. и после удаления выбросов\n",
    "display(data.corr())"
   ]
  },
  {
   "cell_type": "code",
   "execution_count": 17,
   "metadata": {},
   "outputs": [
    {
     "name": "stdout",
     "output_type": "stream",
     "text": [
      "(343002, 10)\n"
     ]
    }
   ],
   "source": [
    "data = data.drop(['PostalCode', 'yearcreated', 'monthcreated', 'RegistrationMonth'], axis=1)\n",
    "print(data.shape)"
   ]
  },
  {
   "cell_type": "markdown",
   "metadata": {},
   "source": [
    "### Вывод:\n",
    "Я загрузила таблицу с данными по продаже автомобилей. Датасет состоит из 354369 строки и 16 колонок. Типы колонок корректны, кроме колонок с датами. Данные в колонках DateCrawled, DateCreated, LastSeen я перевела в формат даты. Удалила дубликаты (4 шт.). Пропуски в столюцах с категориальными данными, их я заполнила значением \"unknown\", чтобы измежать влияния на обучение моделей. Я добавила колонку год и месяц взяв данные из DateCreated и удалила столбцы NumberOfPictures, LastSeen, DateCrawled, DateCreated. Я также удалила примеры, где цена машины равна 0. В части данных были выбросы, я применима правило 3 сигм, чтобы избавиться от выбросов в колонках RegistrationYear и Power. Также проанализиров коэффициенты корреляции между ценой и другими признаками я дополнительно удалила столбцы 'PostalCode', 'yearcreated', 'monthcreated', 'RegistrationMonth', чтобы \"облегчить\" таблицу. Эти данные практически не влияли на цену."
   ]
  },
  {
   "cell_type": "markdown",
   "metadata": {},
   "source": [
    "## Обучение моделей"
   ]
  },
  {
   "cell_type": "code",
   "execution_count": 18,
   "metadata": {},
   "outputs": [],
   "source": [
    "def split(data):\n",
    "    features = data.drop(['Price'], axis = 1)\n",
    "    target = data['Price']\n",
    "    features_train, features_valid, target_train, target_valid = train_test_split(features, target, test_size = 0.4, random_state = 123)\n",
    "    features_test, features_valid, target_test, target_valid = train_test_split(features_valid, target_valid, test_size = 0.5, random_state = 123)\n",
    "    return features_train, features_valid, features_test, target_train, target_valid, target_test"
   ]
  },
  {
   "cell_type": "code",
   "execution_count": 19,
   "metadata": {},
   "outputs": [
    {
     "name": "stdout",
     "output_type": "stream",
     "text": [
      "Результаты модели DummyRegressor (проверка модели на адекватность)\n",
      "CPU times: user 3.49 ms, sys: 347 µs, total: 3.84 ms\n",
      "Wall time: 6.14 ms\n",
      "RMSE: 4783.16489375084\n"
     ]
    }
   ],
   "source": [
    "# DummyClassifier проверка модели на адекватность\n",
    "data_ohe = pd.get_dummies(data, drop_first=True)\n",
    "features_train, features_valid, features_test, target_train, target_valid, target_test = split(data_ohe)\n",
    "\n",
    "print(\"Результаты модели DummyRegressor (проверка модели на адекватность)\")\n",
    "model = DummyRegressor(strategy='median')\n",
    "%time model.fit(features_train, target_train)\n",
    "predicted = model.predict(features_valid)\n",
    "mse = mean_squared_error(target_valid, predicted)\n",
    "print(\"RMSE:\", mse ** 0.5)"
   ]
  },
  {
   "cell_type": "code",
   "execution_count": 20,
   "metadata": {},
   "outputs": [
    {
     "name": "stdout",
     "output_type": "stream",
     "text": [
      "Результаты модели LinearRegression\n",
      "CPU times: user 18.1 s, sys: 8.43 s, total: 26.6 s\n",
      "Wall time: 26.7 s\n",
      "RMSE: 2705.8330889447248\n"
     ]
    }
   ],
   "source": [
    "# LinearRegression\n",
    "data_ohe = pd.get_dummies(data, drop_first=True)\n",
    "features_train, features_valid, features_test, target_train, target_valid, target_test = split(data_ohe)\n",
    "\n",
    "print(\"Результаты модели LinearRegression\")\n",
    "model = LinearRegression()\n",
    "%time model.fit(features_train, target_train)\n",
    "predicted = model.predict(features_valid)\n",
    "mse = mean_squared_error(target_valid, predicted)\n",
    "print(\"RMSE:\", mse ** 0.5)"
   ]
  },
  {
   "cell_type": "code",
   "execution_count": 21,
   "metadata": {},
   "outputs": [
    {
     "name": "stdout",
     "output_type": "stream",
     "text": [
      "Результаты модели RandomForestRegressor\n",
      "CPU times: user 24.5 s, sys: 0 ns, total: 24.5 s\n",
      "Wall time: 24.8 s\n",
      "RMSE: 2742.7320752281485\n"
     ]
    }
   ],
   "source": [
    "#RandomForestRegressor\n",
    "\n",
    "features_train, features_valid, features_test, target_train, target_valid, target_test = split(data)\n",
    "encoder = OrdinalEncoder()\n",
    "features_train = pd.DataFrame(encoder.fit_transform(features_train), columns=features_train.columns)\n",
    "features_valid = pd.DataFrame(encoder.fit_transform(features_valid), columns=features_valid.columns)\n",
    "\n",
    "print(\"Результаты модели RandomForestRegressor\")\n",
    "model = RandomForestRegressor(n_estimators=46, max_depth = 21, random_state = 123)\n",
    "%time model.fit(features_train, target_train)\n",
    "predicted = model.predict(features_valid)\n",
    "mse = mean_squared_error(target_valid, predicted)\n",
    "print(\"RMSE:\", mse ** 0.5)"
   ]
  },
  {
   "cell_type": "markdown",
   "metadata": {},
   "source": [
    "#код для подбора параметров RandomForestRegressor\n",
    "\n",
    "encoder = OrdinalEncoder()\n",
    "data_ordinal = pd.DataFrame(encoder.fit_transform(data), columns=data.columns)\n",
    "features_train, features_valid, features_test, target_train, target_valid, target_test = split(data_ordinal)\n",
    "\n",
    "n_estimatots = 0\n",
    "max_depth = 0\n",
    "best_score = 5000\n",
    "for i in range(1,50,5):\n",
    "    for j in range(1,50,5):\n",
    "        model = RandomForestRegressor(random_state = 123, max_depth=i, n_estimators = j)\n",
    "        model.fit(features_train, target_train)\n",
    "        predicted = model.predict(features_valid)\n",
    "        mse = mean_squared_error(target_valid, predicted)\n",
    "        RMSE = mse** 0.5\n",
    "        if best_score>RMSE:\n",
    "            best_score=RMSE\n",
    "            max_depth = i\n",
    "            n_estimators = j\n",
    "\n",
    "model = RandomForestRegressor(n_estimators=n_estimators, max_depth = max_depth, random_state = 123)\n",
    "model.fit(features_train, target_train)\n",
    "predicted = model.predict(features_valid)\n",
    "mse = mean_squared_error(target_valid, predicted)\n",
    "print(\"Результаты модели model_RandomForestRegressor\")\n",
    "print(\"RMSE:\", mse ** 0.5)\n",
    "print(\"Лучшая глубина:\", max_depth, \"   |   Лучшее кол-во деревьев:\", n_estimators)"
   ]
  },
  {
   "cell_type": "code",
   "execution_count": 22,
   "metadata": {},
   "outputs": [
    {
     "name": "stdout",
     "output_type": "stream",
     "text": [
      "Результаты модели CatBoostRegressor\n",
      "CPU times: user 33.3 s, sys: 3.9 s, total: 37.2 s\n",
      "Wall time: 38.7 s\n",
      "RMSE: 1663.5234042723985\n"
     ]
    }
   ],
   "source": [
    "# CatBoostClassifier\n",
    "features_train, features_valid, features_test, target_train, target_valid, target_test = split(data)\n",
    "cat_features = ['VehicleType', 'Gearbox', 'Model', 'FuelType', 'Brand', 'NotRepaired']\n",
    "\n",
    "print(\"Результаты модели CatBoostRegressor\")\n",
    "model = CatBoostRegressor(iterations = 46, depth = 13, learning_rate = 0.7, random_state=123)\n",
    "%time model.fit(features_train, target_train, cat_features=cat_features, verbose=False)\n",
    "predicted = model.predict(features_valid)\n",
    "mse = mean_squared_error(target_valid, predicted)\n",
    "print(\"RMSE:\", mse ** 0.5)"
   ]
  },
  {
   "cell_type": "markdown",
   "metadata": {},
   "source": [
    "#код для подбора параметров CatBoostClassifier\n",
    "\n",
    "features_train, features_valid, features_test, target_train, target_valid, target_test = split(data)\n",
    "cat_features = ['VehicleType', 'Gearbox', 'Model', 'FuelType', 'Brand', 'NotRepaired']\n",
    "\n",
    "itera = 0\n",
    "max_depth = 0\n",
    "best_score = 5000\n",
    "for i in range(1,50,5):\n",
    "    for j in range(1,16,3):\n",
    "        model = CatBoostRegressor(iterations = i, depth = j, learning_rate = 0.7, random_state=123)\n",
    "        model.fit(features_train, target_train, cat_features=cat_features, verbose = False)\n",
    "        predicted = model.predict(features_valid)\n",
    "        mse = mean_squared_error(target_valid, predicted)\n",
    "        RMSE = mse** 0.5\n",
    "        if best_score>RMSE:\n",
    "            best_score=RMSE\n",
    "            max_depth = j\n",
    "            itera = i\n",
    "\n",
    "model = CatBoostRegressor(iterations=itera, max_depth = j, learning_rate = 0.7, random_state = 123)\n",
    "model.fit(features_train, target_train, cat_features=cat_features, verbose = False)\n",
    "predicted = model.predict(features_valid)\n",
    "mse = mean_squared_error(target_valid, predicted)\n",
    "print(\"Результаты модели CatBoostClassifier\")\n",
    "print(\"RMSE:\", mse ** 0.5)\n",
    "print(\"Лучшая глубина:\", max_depth, \"   |   Лучшее кол-во деревьев:\", itera)\n",
    "%time"
   ]
  },
  {
   "cell_type": "code",
   "execution_count": 23,
   "metadata": {},
   "outputs": [
    {
     "name": "stdout",
     "output_type": "stream",
     "text": [
      "Результаты модели LGBMRegressor\n"
     ]
    },
    {
     "name": "stderr",
     "output_type": "stream",
     "text": [
      "/opt/conda/lib/python3.7/site-packages/lightgbm/basic.py:1295: UserWarning: categorical_feature in Dataset is overridden.\n",
      "New categorical_feature is ['Brand', 'FuelType', 'Gearbox', 'Model', 'NotRepaired', 'VehicleType']\n",
      "  'New categorical_feature is {}'.format(sorted(list(categorical_feature))))\n"
     ]
    },
    {
     "name": "stdout",
     "output_type": "stream",
     "text": [
      "CPU times: user 4.08 s, sys: 3.8 ms, total: 4.08 s\n",
      "Wall time: 4.11 s\n",
      "RMSE: 1730.978485815574\n"
     ]
    }
   ],
   "source": [
    "# LGBMRegressor\n",
    "\n",
    "features_train, features_valid, features_test, target_train, target_valid, target_test = split(data)\n",
    "cat_features = ['VehicleType', 'Gearbox', 'Model', 'FuelType', 'Brand', 'NotRepaired']\n",
    "for col_name in cat_features:\n",
    "    features_train[col_name] = features_train[col_name].astype('category')\n",
    "    features_valid[col_name] = features_valid[col_name].astype('category')\n",
    "\n",
    "print(\"Результаты модели LGBMRegressor\")\n",
    "model = LGBMRegressor(max_depth=11, n_estimators =46, random_state = 123)\n",
    "%time model.fit(features_train, target_train, categorical_feature = cat_features)\n",
    "predicted = model.predict(features_valid)\n",
    "mse = mean_squared_error(target_valid, predicted)\n",
    "print(\"RMSE:\", mse ** 0.5)"
   ]
  },
  {
   "cell_type": "markdown",
   "metadata": {},
   "source": [
    "#код для подбора параметров LGBMRegressor\n",
    "\n",
    "encoder = OrdinalEncoder()\n",
    "data_ordinal = pd.DataFrame(encoder.fit_transform(data), columns=data.columns)\n",
    "features_train, features_valid, features_test, target_train, target_valid, target_test = split(data_ordinal)\n",
    "cat_features = ['VehicleType', 'Gearbox', 'Model', 'FuelType', 'Brand', 'NotRepaired']\n",
    "\n",
    "itera = 0\n",
    "max_depth = 0\n",
    "best_score = 5000\n",
    "for i in range(1,50,5):\n",
    "    for j in range(1,31,5):\n",
    "        model = LGBMRegressor(n_estimators =i, max_depth = j, random_state = 123)\n",
    "        model.fit(features_train, target_train, categorical_feature = cat_features)\n",
    "        predicted = model.predict(features_valid)\n",
    "        mse = mean_squared_error(target_valid, predicted)\n",
    "        RMSE = mse** 0.5\n",
    "        if best_score>RMSE:\n",
    "            best_score=RMSE\n",
    "            max_depth = j\n",
    "            itera = i\n",
    "\n",
    "model = LGBMRegressor(n_estimators =itera, max_depth = j, random_state = 123)\n",
    "model.fit(features_train, target_train, categorical_feature = cat_features)\n",
    "predicted = model.predict(features_valid)\n",
    "mse = mean_squared_error(target_valid, predicted)\n",
    "print(\"Результаты модели LGBMRegressor\")\n",
    "print(\"RMSE:\", mse ** 0.5)\n",
    "print(\"Лучшая глубина:\", max_depth, \"   |   Лучшее кол-во деревьев:\", itera)\n",
    "%time"
   ]
  },
  {
   "cell_type": "markdown",
   "metadata": {},
   "source": [
    "### Вывод:\n",
    "Для обучения и проверки я поделила датасет на обучающую, валидационную и тестовую выборки (в пропорции 3:1:1). Целевой признак Price. Для оценка качества моелей я использовала метрику RMSE. Модели показали сл. результаты в предсказании цен на машины:\n",
    "\n",
    "DummyClassifier: 4783\n",
    "\n",
    "LinearRegression: 2705\n",
    "\n",
    "RandomForestRegressor (n_estimators=46, max_depth = 21): 2742\n",
    "\n",
    "CatBoostClassifier (iterations = 46, depth = 13, learning_rate = 0.7): 1663\n",
    "\n",
    "LGBMRegressor (max_depth=11, n_estimators =46): 1730\n",
    "\n",
    "Самой точной оказалась модель: CatBoostClassifier (RMSE = 1663, время работы 38 сек). А самой быстрой с хорошей точностью LGBMRegressor (RMSE = , время обучения 4 сек). Проверим эти две модели на тестовых данных."
   ]
  },
  {
   "cell_type": "markdown",
   "metadata": {},
   "source": [
    "## Анализ моделей"
   ]
  },
  {
   "cell_type": "code",
   "execution_count": 25,
   "metadata": {},
   "outputs": [
    {
     "name": "stdout",
     "output_type": "stream",
     "text": [
      "Результаты модели CatBoostRegressor\n",
      "CPU times: user 33 s, sys: 3.39 s, total: 36.4 s\n",
      "Wall time: 37.5 s\n",
      "CPU times: user 198 ms, sys: 0 ns, total: 198 ms\n",
      "Wall time: 173 ms\n",
      "RMSE: 1694.3082359812727\n"
     ]
    }
   ],
   "source": [
    "# CatBoostClassifier\n",
    "features_train, features_valid, features_test, target_train, target_valid, target_test = split(data)\n",
    "cat_features = ['VehicleType', 'Gearbox', 'Model', 'FuelType', 'Brand', 'NotRepaired']\n",
    "\n",
    "print(\"Результаты модели CatBoostRegressor\")\n",
    "model = CatBoostRegressor(iterations = 46, depth = 13, learning_rate = 0.7, random_state=123)\n",
    "%time model.fit(features_train, target_train, cat_features=cat_features, verbose=False)\n",
    "%time predicted = model.predict(features_test)\n",
    "mse = mean_squared_error(target_test, predicted)\n",
    "print(\"RMSE:\", mse ** 0.5)"
   ]
  },
  {
   "cell_type": "code",
   "execution_count": 28,
   "metadata": {},
   "outputs": [
    {
     "name": "stdout",
     "output_type": "stream",
     "text": [
      "Результаты модели LGBMRegressor\n"
     ]
    },
    {
     "name": "stderr",
     "output_type": "stream",
     "text": [
      "/opt/conda/lib/python3.7/site-packages/lightgbm/basic.py:1295: UserWarning: categorical_feature in Dataset is overridden.\n",
      "New categorical_feature is ['Brand', 'FuelType', 'Gearbox', 'Model', 'NotRepaired', 'VehicleType']\n",
      "  'New categorical_feature is {}'.format(sorted(list(categorical_feature))))\n"
     ]
    },
    {
     "name": "stdout",
     "output_type": "stream",
     "text": [
      "CPU times: user 3.99 s, sys: 7.71 ms, total: 4 s\n",
      "Wall time: 4.04 s\n",
      "CPU times: user 461 ms, sys: 0 ns, total: 461 ms\n",
      "Wall time: 495 ms\n",
      "RMSE: 1759.5226450441758\n"
     ]
    }
   ],
   "source": [
    "# LGBMRegressor\n",
    "\n",
    "features_train, features_valid, features_test, target_train, target_valid, target_test = split(data)\n",
    "cat_features = ['VehicleType', 'Gearbox', 'Model', 'FuelType', 'Brand', 'NotRepaired']\n",
    "for col_name in cat_features:\n",
    "    features_train[col_name] = features_train[col_name].astype('category')\n",
    "    features_test[col_name] = features_test[col_name].astype('category')\n",
    "\n",
    "print(\"Результаты модели LGBMRegressor\")\n",
    "model = LGBMRegressor(max_depth=11, n_estimators =46, random_state = 123)\n",
    "%time model.fit(features_train, target_train, categorical_feature = cat_features)\n",
    "%time predicted = model.predict(features_test)\n",
    "mse = mean_squared_error(target_test, predicted)\n",
    "print(\"RMSE:\", mse ** 0.5)"
   ]
  },
  {
   "cell_type": "code",
   "execution_count": 27,
   "metadata": {},
   "outputs": [
    {
     "name": "stdout",
     "output_type": "stream",
     "text": [
      "Результаты модели DummyRegressor (проверка модели на адекватность)\n",
      "CPU times: user 3.89 ms, sys: 0 ns, total: 3.89 ms\n",
      "Wall time: 3.51 ms\n",
      "RMSE: 4805.212885047532\n"
     ]
    }
   ],
   "source": [
    "# DummyClassifier проверка модели на адекватность\n",
    "data_ohe = pd.get_dummies(data, drop_first=True)\n",
    "features_train, features_valid, features_test, target_train, target_valid, target_test = split(data_ohe)\n",
    "\n",
    "print(\"Результаты модели DummyRegressor (проверка модели на адекватность)\")\n",
    "model = DummyRegressor(strategy='median')\n",
    "%time model.fit(features_train, target_train)\n",
    "predicted = model.predict(features_test)\n",
    "mse = mean_squared_error(target_test, predicted)\n",
    "print(\"RMSE:\", mse ** 0.5)"
   ]
  },
  {
   "cell_type": "markdown",
   "metadata": {},
   "source": [
    "### Вывод:\n",
    "На тестовых данных модель CatBoostClassifier с параметрами iterations = 46, depth = 13, learning_rate = 0.7 показала хорошее качество: RMSE = 1694.LGBMRegressor с параметрами max_depth=11, n_estimators =46 показала хорошее качество: RMSE = 1759. Результат у CatBoostClassifier немного лучше, чем у LGBMRegressor;\n",
    "CatBoostClassifier обучается в 9 раз медленнее LGBMRegressor (на 33 секунды);\n",
    "CatBoostClassifier прогнозирует в 3 раза быстрее LGBMRegressor.\n",
    "\n",
    "Учитывая скорость работы и качество моделей рекомендую к использованию модель LGBMRegressor при единоразовом использовании/прогнозировании результатов и CatBoostClassifier при перманентном/онлайн прогнозирования, т.е. когда не нужно каждый раз обучать модель перед прогнозом."
   ]
  }
 ],
 "metadata": {
  "kernelspec": {
   "display_name": "Python 3",
   "language": "python",
   "name": "python3"
  },
  "language_info": {
   "codemirror_mode": {
    "name": "ipython",
    "version": 3
   },
   "file_extension": ".py",
   "mimetype": "text/x-python",
   "name": "python",
   "nbconvert_exporter": "python",
   "pygments_lexer": "ipython3",
   "version": "3.7.4"
  },
  "toc": {
   "base_numbering": 1,
   "nav_menu": {},
   "number_sections": true,
   "sideBar": true,
   "skip_h1_title": true,
   "title_cell": "Table of Contents",
   "title_sidebar": "Contents",
   "toc_cell": false,
   "toc_position": {},
   "toc_section_display": true,
   "toc_window_display": false
  }
 },
 "nbformat": 4,
 "nbformat_minor": 2
}
