{
 "cells": [
  {
   "cell_type": "code",
   "execution_count": 1,
   "metadata": {},
   "outputs": [
    {
     "name": "stderr",
     "output_type": "stream",
     "text": [
      "[nltk_data] Downloading package stopwords to\n",
      "[nltk_data]     C:\\Users\\Администратор\\AppData\\Roaming\\nltk_data...\n",
      "[nltk_data]   Package stopwords is already up-to-date!\n"
     ]
    }
   ],
   "source": [
    "import pandas as pd\n",
    "from sklearn.feature_extraction.text import TfidfVectorizer\n",
    "from sklearn.feature_extraction.text import CountVectorizer \n",
    "from sklearn.linear_model import LogisticRegression\n",
    "from sklearn.ensemble import RandomForestClassifier\n",
    "from scipy.sparse import hstack\n",
    "import numpy as np \n",
    "\n",
    "import nltk\n",
    "from nltk.corpus import stopwords as nltk_stopwords\n",
    "nltk.download('stopwords')\n",
    "stopwords = set(nltk_stopwords.words('russian'))"
   ]
  },
  {
   "cell_type": "code",
   "execution_count": 2,
   "metadata": {},
   "outputs": [],
   "source": [
    "data = pd.read_csv('https://code.s3.yandex.net/datasets/tweets_lemm_train.csv')\n",
    "corpus = data['lemm_text'].values.astype('U')\n",
    "data_test = pd.read_csv('https://code.s3.yandex.net/datasets/tweets_lemm_test.csv')\n",
    "corpus_test = data_test['lemm_text'].values.astype('U')\n",
    "\n",
    "count_tf = TfidfVectorizer(stop_words = stopwords)\n",
    "tf_idf = count_tf.fit_transform(corpus)\n",
    "tf_idf_test = count_tf.transform(corpus_test)\n",
    "target_train = data['positive']\n",
    "\n",
    "model = LogisticRegression()\n",
    "model.fit(tf_idf, target_train)\n",
    "positive = ['positive']\n",
    "predictions = pd.DataFrame(model.predict(tf_idf_test), columns = positive)\n",
    "predictions.to_csv('prediction', index = False) \n"
   ]
  }
 ],
 "metadata": {
  "kernelspec": {
   "display_name": "Python 3",
   "language": "python",
   "name": "python3"
  },
  "language_info": {
   "codemirror_mode": {
    "name": "ipython",
    "version": 3
   },
   "file_extension": ".py",
   "mimetype": "text/x-python",
   "name": "python",
   "nbconvert_exporter": "python",
   "pygments_lexer": "ipython3",
   "version": "3.7.4"
  }
 },
 "nbformat": 4,
 "nbformat_minor": 4
}
